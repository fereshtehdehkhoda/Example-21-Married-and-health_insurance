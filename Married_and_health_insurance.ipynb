{
  "cells": [
    {
      "cell_type": "markdown",
      "metadata": {
        "id": "view-in-github",
        "colab_type": "text"
      },
      "source": [
        "<a href=\"https://colab.research.google.com/github/fereshtehdehkhoda/Example-21-Married-and-health_insurance/blob/main/Married_and_health_insurance.ipynb\" target=\"_parent\"><img src=\"https://colab.research.google.com/assets/colab-badge.svg\" alt=\"Open In Colab\"/></a>"
      ]
    },
    {
      "cell_type": "markdown",
      "id": "1dae391b-dc6e-49d2-8225-a39d527bddb8",
      "metadata": {
        "id": "1dae391b-dc6e-49d2-8225-a39d527bddb8"
      },
      "source": [
        "# Married and health_insurance"
      ]
    },
    {
      "cell_type": "code",
      "execution_count": null,
      "id": "6313997c-9cb0-4efb-8479-7491ef617f46",
      "metadata": {
        "id": "6313997c-9cb0-4efb-8479-7491ef617f46"
      },
      "outputs": [],
      "source": [
        "#چند درصد مشتریان متاهل، دارای بیمه سلامت هستند؟"
      ]
    },
    {
      "cell_type": "code",
      "execution_count": null,
      "id": "4f15ea90-6be7-40ec-a0a8-1833e39cdcf3",
      "metadata": {
        "id": "4f15ea90-6be7-40ec-a0a8-1833e39cdcf3"
      },
      "outputs": [],
      "source": [
        "import pandas as pd\n",
        "import numpy as np"
      ]
    },
    {
      "cell_type": "code",
      "execution_count": null,
      "id": "b6396fa8-64c8-4d1f-bc2f-c4613645517e",
      "metadata": {
        "id": "b6396fa8-64c8-4d1f-bc2f-c4613645517e"
      },
      "outputs": [],
      "source": [
        "data=pd.read_csv('sample_data.csv')"
      ]
    },
    {
      "cell_type": "code",
      "execution_count": null,
      "id": "00f549db-3dc0-4914-a609-b77851c80403",
      "metadata": {
        "id": "00f549db-3dc0-4914-a609-b77851c80403",
        "outputId": "80dd745e-512e-4e7d-e4cb-916e4abb343d"
      },
      "outputs": [
        {
          "name": "stdout",
          "output_type": "stream",
          "text": [
            "<class 'pandas.core.frame.DataFrame'>\n",
            "RangeIndex: 500 entries, 0 to 499\n",
            "Data columns (total 11 columns):\n",
            " #   Column            Non-Null Count  Dtype  \n",
            "---  ------            --------------  -----  \n",
            " 0   id                500 non-null    int64  \n",
            " 1   sex               500 non-null    object \n",
            " 2   is_employed       435 non-null    object \n",
            " 3   income            493 non-null    float64\n",
            " 4   marital_status    500 non-null    object \n",
            " 5   health_insurance  500 non-null    bool   \n",
            " 6   housing_type      466 non-null    object \n",
            " 7   recent_move       466 non-null    object \n",
            " 8   num_vehicles      466 non-null    float64\n",
            " 9   age               500 non-null    float64\n",
            " 10  state_of_res      500 non-null    object \n",
            "dtypes: bool(1), float64(3), int64(1), object(6)\n",
            "memory usage: 39.7+ KB\n"
          ]
        }
      ],
      "source": [
        "data.info()"
      ]
    },
    {
      "cell_type": "code",
      "execution_count": null,
      "id": "eeaf46c0-8ab3-49c7-9f7d-8bff570c5042",
      "metadata": {
        "id": "eeaf46c0-8ab3-49c7-9f7d-8bff570c5042",
        "outputId": "12cb69af-832e-4d10-a977-1665da66b814"
      },
      "outputs": [
        {
          "data": {
            "text/plain": [
              "87.95180722891565"
            ]
          },
          "execution_count": 13,
          "metadata": {},
          "output_type": "execute_result"
        }
      ],
      "source": [
        "np.sum((data['health_insurance']==True) & (data['marital_status']=='Married'))/np.sum(data['marital_status']=='Married')*100"
      ]
    }
  ],
  "metadata": {
    "kernelspec": {
      "display_name": "Python 3 (ipykernel)",
      "language": "python",
      "name": "python3"
    },
    "language_info": {
      "codemirror_mode": {
        "name": "ipython",
        "version": 3
      },
      "file_extension": ".py",
      "mimetype": "text/x-python",
      "name": "python",
      "nbconvert_exporter": "python",
      "pygments_lexer": "ipython3",
      "version": "3.12.4"
    },
    "colab": {
      "provenance": [],
      "include_colab_link": true
    }
  },
  "nbformat": 4,
  "nbformat_minor": 5
}